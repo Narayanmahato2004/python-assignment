{
 "cells": [
  {
   "cell_type": "code",
   "execution_count": 4,
   "id": "4e3bd638-fd1c-4537-aaaa-dddf0f631b2f",
   "metadata": {},
   "outputs": [
    {
     "name": "stdin",
     "output_type": "stream",
     "text": [
      "Enter first number:  100\n",
      "Enter second number:  50\n"
     ]
    },
    {
     "name": "stdout",
     "output_type": "stream",
     "text": [
      "Addition: 150.0\n",
      "Subtraction: 50.0\n",
      "Multiplication: 5000.0\n",
      "Division: 2.0\n",
      "Modulus: 0.0\n",
      "Exponentiation: 1e+100\n",
      "Floor Division: 2.0\n"
     ]
    }
   ],
   "source": [
    "#1.Write a Python program to perform the following operations:\n",
    "  # 1. Add, subtract, multiply, and divide two numbers (input by the user).\n",
    "  # 2. Use the modulus operator to find the remainder of their division.\n",
    "  # 3. Use the exponentiation operator to raise the first number to the power of the second number\n",
    "  # 4. Perform floor division on the two numbers.\n",
    "\n",
    "# Get user input\n",
    "num1 = float(input(\"Enter first number: \"))\n",
    "num2 = float(input(\"Enter second number: \"))\n",
    "\n",
    "# Perform operations\n",
    "addition = num1 + num2\n",
    "subtraction = num1 - num2\n",
    "multiplication = num1 * num2\n",
    "division = num1 / num2\n",
    "modulus = num1 % num\n",
    "exponentiation = num1 ** num2\n",
    "floor_division = num1 // num2\n",
    "\n",
    "# Display results\n",
    "print(\"Addition:\", addition)\n",
    "print(\"Subtraction:\", subtraction)\n",
    "print(\"Multiplication:\", multiplication)\n",
    "print(\"Division:\", division)\n",
    "print(\"Modulus:\", modulus)\n",
    "print(\"Exponentiation:\", exponentiation)\n",
    "print(\"Floor Division:\", floor_division)\n"
   ]
  },
  {
   "cell_type": "code",
   "execution_count": 5,
   "id": "e8703fed-6a68-4f5f-abff-791159ddc20f",
   "metadata": {},
   "outputs": [
    {
     "name": "stdin",
     "output_type": "stream",
     "text": [
      "Enter the first number:  10\n",
      "Enter the second number:  20\n"
     ]
    },
    {
     "name": "stdout",
     "output_type": "stream",
     "text": [
      "The first number is less than or equal to the second.\n"
     ]
    }
   ],
   "source": [
    "#2.Write a Python program that asks for two numbers and checks:\n",
    "  # 1. If the first number is greater than the second.\n",
    "  # 2. If the first number is equal to the second.\n",
    "  # 3. If the first number is less than or equal to the second.\n",
    "\n",
    "# Get user input\n",
    "num1 = float(input(\"Enter the first number: \"))\n",
    "num2 = float(input(\"Enter the second number: \"))\n",
    "\n",
    "# Check conditions\n",
    "if num1 > num2:\n",
    "    print(\"The first number is greater than the second.\")\n",
    "elif num1 == num2:\n",
    "    print(\"The first number is equal to the second.\")\n",
    "else:\n",
    "    print(\"The first number is less than or equal to the second.\")\n"
   ]
  },
  {
   "cell_type": "code",
   "execution_count": 6,
   "id": "c467c500-a536-4193-8333-eb23b30fb3f8",
   "metadata": {},
   "outputs": [
    {
     "name": "stdin",
     "output_type": "stream",
     "text": [
      "Enter first boolean value (True/False):  True\n",
      "Enter second boolean value (True/False):  False\n",
      "Enter third boolean value (True/False):  True\n"
     ]
    },
    {
     "name": "stdout",
     "output_type": "stream",
     "text": [
      "Result of AND operation: True\n",
      "Result of OR operation: True\n",
      "Result of NOT operation on first value: False\n"
     ]
    }
   ],
   "source": [
    "#3.Write a Python program that:\n",
    "  # 1. Takes three boolean values (True or False) as input.\n",
    "  # 2. Uses and, or, and not operators to return the result of combining them\n",
    "\n",
    "# Take three boolean values as input\n",
    "bool1 = bool(input(\"Enter first boolean value (True/False): \"))\n",
    "bool2 = bool(input(\"Enter second boolean value (True/False): \"))\n",
    "bool3 = bool(input(\"Enter third boolean value (True/False): \"))\n",
    "\n",
    "# Use and, or, and not operators\n",
    "result_and = bool1 and bool2 and bool3\n",
    "result_or = bool1 or bool2 or bool3\n",
    "result_not = not bool1\n",
    "\n",
    "# Display the results\n",
    "print(\"Result of AND operation:\", result_and)\n",
    "print(\"Result of OR operation:\", result_or)\n",
    "print(\"Result of NOT operation on first value:\", result_not)\n",
    "\n"
   ]
  },
  {
   "cell_type": "code",
   "execution_count": 7,
   "id": "0b232ae3-4062-4f71-9eb0-a4504b9d31df",
   "metadata": {},
   "outputs": [
    {
     "name": "stdin",
     "output_type": "stream",
     "text": [
      "Enter a string:  Naitik\n"
     ]
    },
    {
     "name": "stdout",
     "output_type": "stream",
     "text": [
      "Length of the string: 6\n",
      "First character: N\n",
      "Last character: k\n",
      "Reversed string: kitiaN\n",
      "Uppercase: NAITIK\n",
      "Lowercase: naitik\n"
     ]
    }
   ],
   "source": [
    "#4. 1. Take a string input from the user.\n",
    "  # 2. Display the following:\n",
    "  # The length of the string.\n",
    "  # The first and last character.\n",
    "  # The string in reverse order.\n",
    "  # The string in uppercase and lowercase.\n",
    "\n",
    "# Get user input\n",
    "string = input(\"Enter a string: \")\n",
    "\n",
    "# Get string properties\n",
    "length = len(string)\n",
    "first_char = string[0]\n",
    "last_char = string[-1]\n",
    "reversed_string = string[::-1]\n",
    "uppercase = string.upper()\n",
    "lowercase = string.lower()\n",
    "\n",
    "# Display results\n",
    "print(\"Length of the string:\", length)\n",
    "print(\"First character:\", first_char)\n",
    "print(\"Last character:\", last_char)\n",
    "print(\"Reversed string:\", reversed_string)\n",
    "print(\"Uppercase:\", uppercase)\n",
    "print(\"Lowercase:\", lowercase)\n"
   ]
  },
  {
   "cell_type": "code",
   "execution_count": 8,
   "id": "6e9e129d-734f-42f9-acfc-631bf9e939fb",
   "metadata": {},
   "outputs": [
    {
     "name": "stdin",
     "output_type": "stream",
     "text": [
      "Enter your name:  Narayan\n",
      "Enter your age:  21\n"
     ]
    },
    {
     "name": "stdout",
     "output_type": "stream",
     "text": [
      "Hello Narayan, you are 21 years old.\n"
     ]
    }
   ],
   "source": [
    "#5. Write a program that asks for the user's name and age, and displays the message in this format:\n",
    "# Hello [Name], you are [Age] years old.\n",
    "\n",
    "# Get user input\n",
    "name = input(\"Enter your name: \")\n",
    "age = input(\"Enter your age: \")\n",
    "\n",
    "# Display message\n",
    "print(f\"Hello {name}, you are {age} years old.\")\n"
   ]
  },
  {
   "cell_type": "code",
   "execution_count": 17,
   "id": "b4edc655-7de9-4a4d-ad61-75f23365af0c",
   "metadata": {},
   "outputs": [
    {
     "name": "stdin",
     "output_type": "stream",
     "text": [
      "Enter a sentence:  natik is a good boy\n",
      "Enter a word to search:  boy\n"
     ]
    },
    {
     "name": "stdout",
     "output_type": "stream",
     "text": [
      "The word 'boy' exists in the sentence at index 16.\n"
     ]
    }
   ],
   "source": [
    "#6. Write a Python program that:\n",
    "  # 1. Asks for a sentence input from the user.\n",
    "  # 2. Asks for a word to search in the sentence.\n",
    "  # 3. Outputs whether the word exists in the sentence and, if it does, at which position (index).\n",
    "\n",
    "# Get user input\n",
    "sentence = input(\"Enter a sentence: \")\n",
    "word = input(\"Enter a word to search: \")\n",
    "\n",
    "# Check if the word is in the sentence\n",
    "if word in sentence:\n",
    "    index = sentence.index(word)\n",
    "    print(f\"The word '{word}' exists in the sentence at index {index}.\")\n",
    "else:\n",
    "    print(f\"The word '{word}' does not exist in the sentence.\")\n"
   ]
  },
  {
   "cell_type": "code",
   "execution_count": null,
   "id": "63bd6476-1ebe-4d33-b0a7-a67d8df50d07",
   "metadata": {},
   "outputs": [],
   "source": []
  },
  {
   "cell_type": "code",
   "execution_count": 11,
   "id": "501fc30c-c8d6-47e6-855f-87827ef12947",
   "metadata": {},
   "outputs": [
    {
     "name": "stdin",
     "output_type": "stream",
     "text": [
      "Enter first number:  10\n",
      "Enter second number:  2\n",
      "Enter third number:  8\n",
      "Enter fourth number:  100\n",
      "Enter fifth number:  5\n"
     ]
    },
    {
     "name": "stdout",
     "output_type": "stream",
     "text": [
      "The numbers you entered are: [10.0, 2.0, 8.0, 100.0, 5.0]\n",
      "The sum of all numbers is: 125.0\n",
      "The largest number is: 100.0\n",
      "The smallest number is: 2.0\n"
     ]
    }
   ],
   "source": [
    "#7.Write a Python program that:\n",
    "# 1. Creates a list of 5 numbers (input from the user).\n",
    "# 2. Displays the sum of all the numbers in the list.\n",
    "# 3. Finds the largest and smallest number in the list.\n",
    "\n",
    "# Get user input for each number\n",
    "num1 = float(input(\"Enter first number: \"))\n",
    "num2 = float(input(\"Enter second number: \"))\n",
    "num3 = float(input(\"Enter third number: \"))\n",
    "num4 = float(input(\"Enter fourth number: \"))\n",
    "num5 = float(input(\"Enter fifth number: \"))\n",
    "\n",
    "# Create a list of these numbers\n",
    "numbers = [num1, num2, num3, num4, num5]\n",
    "\n",
    "# Display the list\n",
    "print(\"The numbers you entered are:\", numbers)\n",
    "\n",
    "# Calculate the sum of all numbers\n",
    "sum_numbers = num1 + num2 + num3 + num4 + num5\n",
    "print(\"The sum of all numbers is:\", sum_numbers)\n",
    "\n",
    "# Find the largest and smallest numbers\n",
    "max_number = max(numbers)\n",
    "min_number = min(numbers)\n",
    "print(\"The largest number is:\", max_number)\n",
    "print(\"The smallest number is:\", min_number)"
   ]
  },
  {
   "cell_type": "code",
   "execution_count": 12,
   "id": "4a636c6e-602c-42dc-97ef-1d162c013ed3",
   "metadata": {},
   "outputs": [
    {
     "name": "stdout",
     "output_type": "stream",
     "text": [
      "Updated list of favorite fruits: ['Apple', 'Mango', 'Orange', 'Pineapple', 'Grapes']\n"
     ]
    }
   ],
   "source": [
    "#8.1. Create a list of 5 of your favorite fruits.\n",
    "   # 2. Perform the following:\n",
    "   #  o Add one more fruit to the list.\n",
    "   #  o Remove the second fruit from the list.\n",
    "   #  o Print the updated list.\n",
    "\n",
    "# Create a list of 5 favorite fruits\n",
    "favorite_fruits = [\"Apple\", \"Banana\", \"Mango\", \"Orange\", \"Pineapple\"]\n",
    "\n",
    "# Add one more fruit to the list\n",
    "favorite_fruits.append(\"Grapes\")\n",
    "\n",
    "# Remove the second fruit from the list\n",
    "favorite_fruits.pop(1)\n",
    "\n",
    "# Print the updated list\n",
    "print(\"Updated list of favorite fruits:\", favorite_fruits)\n"
   ]
  },
  {
   "cell_type": "code",
   "execution_count": 13,
   "id": "7027755d-f130-4eef-904f-82f7e01f6bc5",
   "metadata": {},
   "outputs": [
    {
     "name": "stdin",
     "output_type": "stream",
     "text": [
      "Enter first number:  1\n",
      "Enter second number:  2\n",
      "Enter third number:  3\n",
      "Enter fourth number:  4\n",
      "Enter fifth number:  5\n"
     ]
    },
    {
     "name": "stdout",
     "output_type": "stream",
     "text": [
      "Numbers in ascending order: [1.0, 2.0, 3.0, 4.0, 5.0]\n",
      "Numbers in descending order: [5.0, 4.0, 3.0, 2.0, 1.0]\n"
     ]
    }
   ],
   "source": [
    "#9.Write a Python program that:\n",
    "# 1. Asks the user to input a list of 5 numbers.\n",
    "# 2. Sorts the list in ascending order and displays it.\n",
    "# 3. Sorts the list in descending order and displays it.\n",
    "\n",
    "# Get user input for five numbers\n",
    "num1 = float(input(\"Enter first number: \"))\n",
    "num2 = float(input(\"Enter second number: \"))\n",
    "num3 = float(input(\"Enter third number: \"))\n",
    "num4 = float(input(\"Enter fourth number: \"))\n",
    "num5 = float(input(\"Enter fifth number: \"))\n",
    "\n",
    "# Create a list of numbers\n",
    "numbers = [num1, num2, num3, num4, num5]\n",
    "\n",
    "# Sort the list in ascending order\n",
    "numbers.sort()\n",
    "print(\"Numbers in ascending order:\", numbers)\n",
    "\n",
    "# Sort the list in descending order\n",
    "numbers.sort(reverse=True)\n",
    "print(\"Numbers in descending order:\", numbers)\n"
   ]
  },
  {
   "cell_type": "code",
   "execution_count": 14,
   "id": "b3b1b903-546f-4ecc-88bd-b476168b3e2d",
   "metadata": {},
   "outputs": [
    {
     "name": "stdout",
     "output_type": "stream",
     "text": [
      "First 5 elements: [1, 2, 3, 4, 5]\n",
      "Last 5 elements: [6, 7, 8, 9, 10]\n",
      "Elements from index 2 to index 7: [3, 4, 5, 6, 7, 8]\n"
     ]
    }
   ],
   "source": [
    "#10.Given the list numbers = [1, 2, 3, 4, 5, 6, 7, 8, 9, 10], perform the following:\n",
    "# 1. Print the first 5 elements.\n",
    "# 2. Print the last 5 elements.\n",
    "# 3. Print the elements from index 2 to index 7.\n",
    "\n",
    "numbers = [1, 2, 3, 4, 5, 6, 7, 8, 9, 10]\n",
    "\n",
    "# Print the first 5 elements\n",
    "first_five_elements = numbers[:5]\n",
    "print(\"First 5 elements:\", first_five_elements)\n",
    "\n",
    "# Print the last 5 elements\n",
    "last_five_elements = numbers[-5:]\n",
    "print(\"Last 5 elements:\", last_five_elements)\n",
    "\n",
    "# Print the elements from index 2 to index 7\n",
    "elements_2_to_7 = numbers[2:8]\n",
    "print(\"Elements from index 2 to index 7:\", elements_2_to_7)\n"
   ]
  },
  {
   "cell_type": "code",
   "execution_count": 16,
   "id": "6bdf1e48-c2c6-48ab-b058-4562c0aeaf15",
   "metadata": {},
   "outputs": [
    {
     "name": "stdin",
     "output_type": "stream",
     "text": [
      "Enter the name of student 1:  99\n",
      "Enter 99's score for subject 1:  90\n",
      "Enter 99's score for subject 2:  87\n",
      "Enter 99's score for subject 3:  78\n",
      "Enter the name of student 2:  88\n",
      "Enter 88's score for subject 1:  99\n",
      "Enter 88's score for subject 2:  90\n",
      "Enter 88's score for subject 3:  78\n",
      "Enter the name of student 3:  89\n",
      "Enter 89's score for subject 1:  85\n",
      "Enter 89's score for subject 2:  83\n",
      "Enter 89's score for subject 3:  79\n"
     ]
    },
    {
     "name": "stdout",
     "output_type": "stream",
     "text": [
      "99's average score is 85.00\n",
      "88's average score is 89.00\n",
      "89's average score is 82.33\n"
     ]
    }
   ],
   "source": [
    "#11.Write a Python program that:\n",
    "# 1. Takes input of 3 students' names and their respective scores in 3 subjects.\n",
    "# 2. Stores them in a nested list.\n",
    "# 3. Prints each student's name and their average score.\n",
    "\n",
    "# Create an empty list to store student data\n",
    "students = []\n",
    "\n",
    "# Get input for 3 students\n",
    "for i in range(3):\n",
    "    name = input(f\"Enter the name of student {i + 1}: \")\n",
    "    score1 = float(input(f\"Enter {name}'s score for subject 1: \"))\n",
    "    score2 = float(input(f\"Enter {name}'s score for subject 2: \"))\n",
    "    score3 = float(input(f\"Enter {name}'s score for subject 3: \"))\n",
    "    \n",
    "    # Calculate the average score\n",
    "    average = (score1 + score2 + score3) / 3\n",
    "    \n",
    "    # Store the data in a nested list\n",
    "    students.append([name, [score1, score2, score3], average])\n",
    "\n",
    "# Print each student's name and their average score\n",
    "for student in students:\n",
    "    print(f\"{student[0]}'s average score is {student[2]:.2f}\")"
   ]
  },
  {
   "cell_type": "code",
   "execution_count": null,
   "id": "58a541e5-f972-47cc-ba82-bf4b6e153d86",
   "metadata": {},
   "outputs": [],
   "source": []
  }
 ],
 "metadata": {
  "kernelspec": {
   "display_name": "Python 3 (ipykernel)",
   "language": "python",
   "name": "python3"
  },
  "language_info": {
   "codemirror_mode": {
    "name": "ipython",
    "version": 3
   },
   "file_extension": ".py",
   "mimetype": "text/x-python",
   "name": "python",
   "nbconvert_exporter": "python",
   "pygments_lexer": "ipython3",
   "version": "3.12.4"
  }
 },
 "nbformat": 4,
 "nbformat_minor": 5
}
